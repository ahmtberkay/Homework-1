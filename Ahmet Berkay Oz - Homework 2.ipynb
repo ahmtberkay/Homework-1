{
 "cells": [
  {
   "cell_type": "code",
   "execution_count": 3,
   "metadata": {},
   "outputs": [
    {
     "name": "stdout",
     "output_type": "stream",
     "text": [
      "[[1 2 3]]\n"
     ]
    }
   ],
   "source": [
    "import scipy as sc\n",
    "import numpy as np\n",
    "array1 = np.array ([(1,2,3)])\n",
    "print (array1)"
   ]
  },
  {
   "cell_type": "code",
   "execution_count": 5,
   "metadata": {},
   "outputs": [
    {
     "name": "stdout",
     "output_type": "stream",
     "text": [
      "[ 0.   2.5  5.   7.5 10. ] \n",
      "\n",
      "[0.  0.5 1. ] \n",
      "\n"
     ]
    }
   ],
   "source": [
    "array2=np.linspace(0,10,5)\n",
    "print(array2,'\\n')\n",
    "array22=np.linspace(0,1,3)\n",
    "print(array22,'\\n')"
   ]
  },
  {
   "cell_type": "code",
   "execution_count": 8,
   "metadata": {},
   "outputs": [
    {
     "name": "stdout",
     "output_type": "stream",
     "text": [
      "[0 1 2 3 4 5 6 7 8 9] \n",
      "\n",
      "[0.  0.5 1.  1.5 2.  2.5 3.  3.5 4.  4.5] \n",
      "\n",
      "[[1 2 3]] \n",
      "\n",
      "[0 1 2 3 4 5 6 7 8 9] \n",
      "\n"
     ]
    }
   ],
   "source": [
    "array3=np . arange (0 ,10 ,1) \n",
    "print( array3 ,'\\n')\n",
    "array4=np.arange(0,5,0.5)\n",
    "print(array4,'\\n')\n",
    "array44=np.arange(5)\n",
    "print(array,'\\n')\n",
    "print(np.arange(10),'\\n')"
   ]
  },
  {
   "cell_type": "code",
   "execution_count": 9,
   "metadata": {},
   "outputs": [
    {
     "name": "stdout",
     "output_type": "stream",
     "text": [
      "[0. 0. 0. 0. 0.] \n",
      "\n",
      "[1. 1. 1.] \n",
      "\n"
     ]
    }
   ],
   "source": [
    "array5 = np . zeros (5) \n",
    "print ( array5 ,'\\n')\n",
    "array6=np.ones(3)\n",
    "print(array6,'\\n')"
   ]
  },
  {
   "cell_type": "code",
   "execution_count": 16,
   "metadata": {},
   "outputs": [
    {
     "name": "stdout",
     "output_type": "stream",
     "text": [
      "[-2. -1.  0.  1.  2.  3.] \n",
      "\n",
      "[0. 1. 2. 3. 4. 5.] \n",
      "\n",
      "[-3. -2. -1.  0.  1.  2.] \n",
      "\n",
      "[-6. -3.  0.  3.  6.  9.] \n",
      "\n",
      "[-1.  -0.5  0.   0.5  1.   1.5] \n",
      "\n",
      "[16.  1.  0.  1. 16. 81.] \n",
      "\n",
      "[ 0.  5. 10. 15. 20. 25.] \n",
      "\n",
      "[[0.84147098 0.90929743 0.14112001]] \n",
      "\n",
      "[-0.41614684  0.54030231  1.          0.54030231 -0.41614684 -0.9899925 ] \n",
      "\n"
     ]
    }
   ],
   "source": [
    "array7=np.linspace(-2,3,6)\n",
    "print(array7,'\\n')\n",
    "print(array7+2,'\\n')\n",
    "print(array7-1,'\\n')\n",
    "print(array7*3,'\\n')\n",
    "print(array7 / 2,'\\n')\n",
    "print(array7**4,'\\n')\n",
    "print((array7+2)*5,'\\n')\n",
    "print(np.sin(array),'\\n')\n",
    "print(np.cos(array7),'\\n')"
   ]
  },
  {
   "cell_type": "code",
   "execution_count": 20,
   "metadata": {},
   "outputs": [
    {
     "name": "stdout",
     "output_type": "stream",
     "text": [
      "[ 60  80 100] \n",
      "\n",
      "[40 40 40] \n",
      "\n",
      "[-40 -40 -40] \n",
      "\n",
      "[ 500 1200 2100] \n",
      "\n",
      "[5.         3.         2.33333333] \n",
      "\n"
     ]
    }
   ],
   "source": [
    "array8 = np.array([10,20,30])\n",
    "array9 = np.array([50 ,60 ,70])\n",
    "result1=array8+array9 \n",
    "print(result1,'\\n')\n",
    "print(array9-array8,'\\n')\n",
    "print(array8-array9,'\\n')\n",
    "print(array8*array9,'\\n')\n",
    "print(array9/array8,'\\n')"
   ]
  },
  {
   "cell_type": "code",
   "execution_count": 21,
   "metadata": {},
   "outputs": [
    {
     "name": "stdout",
     "output_type": "stream",
     "text": [
      "[[1 2 3]\n",
      " [4 5 6]] \n",
      "\n",
      "[[1 1 1]\n",
      " [2 2 2]\n",
      " [3 3 3]] \n",
      "\n"
     ]
    }
   ],
   "source": [
    "array10=np.array([[1,2,3] ,[4,5,6]])\n",
    "print(array10,'\\n')\n",
    "array11=np.array([[1,1,1],[2,2,2],[3,3,3]])\n",
    "print(array11,'\\n')"
   ]
  },
  {
   "cell_type": "code",
   "execution_count": 22,
   "metadata": {},
   "outputs": [
    {
     "name": "stdout",
     "output_type": "stream",
     "text": [
      "[[[1. 0. 0.]\n",
      "  [0. 1. 0.]\n",
      "  [0. 0. 1.]]] \n",
      "\n"
     ]
    }
   ],
   "source": [
    "array12=np.array([np.eye(3)])\n",
    "print(array12,'\\n')"
   ]
  },
  {
   "cell_type": "code",
   "execution_count": 30,
   "metadata": {},
   "outputs": [
    {
     "name": "stdout",
     "output_type": "stream",
     "text": [
      "[0 1 2 3 4 5 6 7] \n",
      "\n",
      "[[0 1 2 3]\n",
      " [4 5 6 7]] \n",
      "\n",
      "[[0 1]\n",
      " [2 3]\n",
      " [4 5]\n",
      " [6 7]] \n",
      "\n",
      "[[0 1]\n",
      " [2 3]\n",
      " [4 5]\n",
      " [6 7]] \n",
      "\n",
      "[[0 1 2 3]\n",
      " [4 5 6 7]] \n",
      "\n"
     ]
    }
   ],
   "source": [
    "array13=np.arange(8)\n",
    "print(array13,'\\n')\n",
    "array14=np.reshape(array13,(2,4))\n",
    "print(array14,'\\n')\n",
    "print(np.reshape(array13,(4,2)),'\\n')\n",
    "print(np.reshape(np.arange(8),(4,2)),'\\n')\n",
    "print(np.reshape(array13,(2,4)),'\\n')\n"
   ]
  },
  {
   "cell_type": "code",
   "execution_count": 31,
   "metadata": {},
   "outputs": [
    {
     "name": "stdout",
     "output_type": "stream",
     "text": [
      "[[1 4 5]\n",
      " [2 3 6]] \n",
      "\n",
      "[[3 6 7]\n",
      " [4 5 8]] \n",
      "\n",
      "[[-2  1  2]\n",
      " [-1  0  3]] \n",
      "\n",
      "[[ 5 20 25]\n",
      " [10 15 30]] \n",
      "\n",
      "[[2.         0.03125    0.016     ]\n",
      " [0.25       0.07407407 0.00925926]] \n",
      "\n",
      "[[ 0.54030231 -0.65364362  0.28366219]\n",
      " [-0.41614684 -0.9899925   0.96017029]] \n",
      "\n"
     ]
    }
   ],
   "source": [
    "array15=np.array([[1,4,5],[2,3,6]])\n",
    "print(array15,'\\n')\n",
    "print(array15+2,'\\n')\n",
    "print(array15-3,'\\n')\n",
    "print(array15*5,'\\n')\n",
    "print(2/array15**3,'\\n')\n",
    "print(np.cos(array15),'\\n')\n"
   ]
  },
  {
   "cell_type": "code",
   "execution_count": 9,
   "metadata": {},
   "outputs": [
    {
     "name": "stdout",
     "output_type": "stream",
     "text": [
      "[[1. 2. 3.]\n",
      " [4. 5. 6.]] \n",
      "\n",
      "[[-1. -2. -3.]\n",
      " [-4. -5. -6.]] \n",
      "\n"
     ]
    },
    {
     "ename": "ValueError",
     "evalue": "shapes (2,3) and (2,3) not aligned: 3 (dim 1) != 2 (dim 0)",
     "output_type": "error",
     "traceback": [
      "\u001b[1;31m---------------------------------------------------------------------------\u001b[0m",
      "\u001b[1;31mValueError\u001b[0m                                Traceback (most recent call last)",
      "\u001b[1;32m<ipython-input-9-8b5dc8bacfa5>\u001b[0m in \u001b[0;36m<module>\u001b[1;34m\u001b[0m\n\u001b[0;32m      6\u001b[0m \u001b[0mprint\u001b[0m\u001b[1;33m(\u001b[0m\u001b[0marray17\u001b[0m\u001b[1;33m,\u001b[0m\u001b[1;34m'\\n'\u001b[0m\u001b[1;33m)\u001b[0m\u001b[1;33m\u001b[0m\u001b[1;33m\u001b[0m\u001b[0m\n\u001b[0;32m      7\u001b[0m \u001b[0marray16\u001b[0m\u001b[1;33m*\u001b[0m\u001b[0marray17\u001b[0m\u001b[1;33m\u001b[0m\u001b[1;33m\u001b[0m\u001b[0m\n\u001b[1;32m----> 8\u001b[1;33m \u001b[0mprint\u001b[0m\u001b[1;33m(\u001b[0m\u001b[0mnp\u001b[0m\u001b[1;33m.\u001b[0m\u001b[0mdot\u001b[0m\u001b[1;33m(\u001b[0m\u001b[0marray16\u001b[0m\u001b[1;33m,\u001b[0m\u001b[0marray17\u001b[0m\u001b[1;33m)\u001b[0m\u001b[1;33m,\u001b[0m\u001b[1;34m'\\n'\u001b[0m\u001b[1;33m)\u001b[0m\u001b[1;33m\u001b[0m\u001b[1;33m\u001b[0m\u001b[0m\n\u001b[0m",
      "\u001b[1;31mValueError\u001b[0m: shapes (2,3) and (2,3) not aligned: 3 (dim 1) != 2 (dim 0)"
     ]
    }
   ],
   "source": [
    "import scipy as sc\n",
    "import numpy as np\n",
    "array16=np.array([[1.,2.,3.],[4.,5.,6.]])\n",
    "print(array16,'\\n')\n",
    "array17=np.array([[-1.,-2.,-3],[-4.,-5.,-6.]])\n",
    "print(array17,'\\n')\n",
    "array16*array17\n",
    "print(np.dot(array16,array17),'\\n')"
   ]
  },
  {
   "cell_type": "code",
   "execution_count": 6,
   "metadata": {},
   "outputs": [
    {
     "name": "stdout",
     "output_type": "stream",
     "text": [
      "[[0.9948242  0.01975596 0.83959497 0.16676705]\n",
      " [0.98975371 0.4628888  0.23619722 0.82138397]] \n",
      "\n",
      "[[0.90614087 0.29231278 0.37280568 0.98879703]\n",
      " [0.4014683  0.64201982 0.39506918 0.19986556]] \n",
      "\n"
     ]
    }
   ],
   "source": [
    "import scipy as sc\n",
    "import numpy as np \n",
    "array18=sc.rand(8)\n",
    "print(np.array(np.reshape((array18),(2,4))),'\\n')\n",
    "array19=print(np.array(np.reshape((sc.rand(8)),(2,4))),'\\n') "
   ]
  },
  {
   "cell_type": "code",
   "execution_count": 8,
   "metadata": {},
   "outputs": [
    {
     "name": "stdout",
     "output_type": "stream",
     "text": [
      "[[1 2 3]\n",
      " [4 5 6]\n",
      " [7 8 9]] \n",
      "\n",
      "[1 2 3] \n",
      "\n",
      "[4 5 6] \n",
      "\n",
      "[7 8 9] \n",
      "\n"
     ]
    }
   ],
   "source": [
    "import scipy as sc\n",
    "import numpy as np \n",
    "array20=np.array([[1,2,3],[4,5,6],[7,8,9]])\n",
    "print(array20,'\\n')\n",
    "print(array20[0,:],'\\n')\n",
    "print(array20[1,:],'\\n')\n",
    "print(array20[2,:],'\\n')"
   ]
  },
  {
   "cell_type": "code",
   "execution_count": null,
   "metadata": {},
   "outputs": [],
   "source": []
  }
 ],
 "metadata": {
  "kernelspec": {
   "display_name": "Python 3",
   "language": "python",
   "name": "python3"
  },
  "language_info": {
   "codemirror_mode": {
    "name": "ipython",
    "version": 3
   },
   "file_extension": ".py",
   "mimetype": "text/x-python",
   "name": "python",
   "nbconvert_exporter": "python",
   "pygments_lexer": "ipython3",
   "version": "3.7.3"
  }
 },
 "nbformat": 4,
 "nbformat_minor": 2
}
