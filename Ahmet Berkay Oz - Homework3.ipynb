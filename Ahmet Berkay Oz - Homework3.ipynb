{
 "cells": [
  {
   "cell_type": "code",
   "execution_count": 7,
   "metadata": {},
   "outputs": [
    {
     "name": "stdout",
     "output_type": "stream",
     "text": [
      "1-2-3 sayisindan birini seciniz\n",
      "Lutfen bir sayi girniz :\n",
      "9\n",
      "Programi tekrar baslat.\n"
     ]
    }
   ],
   "source": [
    "print(\"1-2-3 sayisindan birini seciniz\")\n",
    "sayi=int(input(\"Lutfen bir sayi girniz :\\n\"))\n",
    "\n",
    "if sayi > 3 : \n",
    "    print(\"Programi tekrar baslat.\")   \n",
    "    \n",
    "elif sayi == 1 :\n",
    "    \n",
    "    print(\"Ucgenin hipotenusu hesaplanacak\")\n",
    "    print(\"Hipotenus formulu ise => a**2+b**2=c**2\")\n",
    "    a=  int(input(\"A sayisini giriniz \"))\n",
    "    b=  int(input(\"B sayisini giriniz \"))\n",
    "    c = (a**2 + b**2)**1/2\n",
    "    print(\"hipotenus -> \",c)\n",
    "    \n",
    "    \n",
    "elif sayi == 2 :\n",
    "    a = int(input(\"Bir sayi girniz : \\n\"))\n",
    "    i = 0\n",
    "    while a>=i :\n",
    "        print(i)\n",
    "        if a == i :\n",
    "            break \n",
    "        i += 1\n",
    "    \n",
    "elif sayi == 3 : \n",
    "    \n",
    "    print(\"6 tane sayinin A.O alinacaktir\")\n",
    "    num1=int(input(\"1.sayiyi girniz : \"))\n",
    "    num2=int(input(\"2.sayiyi girniz : \"))\n",
    "    num3=int(input(\"3.sayiyi girniz : \"))\n",
    "    num4=int(input(\"4.sayiyi girniz : \"))\n",
    "    num5=int(input(\"5.sayiyi girniz : \"))\n",
    "    num6=int(input(\"6.sayiyi girniz : \"))\n",
    "    ortalama=(num1+num2+num3+num4+num5+num6)/6\n",
    "    print(\"Aritmetik Ortalama\",ortalama)"
   ]
  },
  {
   "cell_type": "code",
   "execution_count": null,
   "metadata": {},
   "outputs": [],
   "source": []
  }
 ],
 "metadata": {
  "kernelspec": {
   "display_name": "Python 3",
   "language": "python",
   "name": "python3"
  },
  "language_info": {
   "codemirror_mode": {
    "name": "ipython",
    "version": 3
   },
   "file_extension": ".py",
   "mimetype": "text/x-python",
   "name": "python",
   "nbconvert_exporter": "python",
   "pygments_lexer": "ipython3",
   "version": "3.7.3"
  }
 },
 "nbformat": 4,
 "nbformat_minor": 2
}
