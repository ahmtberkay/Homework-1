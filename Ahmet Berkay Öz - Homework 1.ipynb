{
 "cells": [
  {
   "cell_type": "code",
   "execution_count": null,
   "metadata": {},
   "outputs": [],
   "source": [
    "print(\"your question is a polynomial equation:\")\n",
    "print(\"The polynomial equation is as the following:\")\n",
    "print(\"a*x**2+b*x+c\")\n",
    "print(\"delta -> (b**2-4*a*c)\")\n",
    "delta=b**2-4*a*c\n",
    "a=int(input(\"Enter youre 1st number -> \"))\n",
    "b=int(input(\"Enter youre 2nd number -> \"))\n",
    "c=int(input(\"Enter youre 3rd number -> \"))\n",
    "\n",
    "if delta == 0 :\n",
    "    print(\"You have two odors :)\")\n",
    "\n",
    "if delta > 0 :\n",
    "    print(\"You have two different reel odors *-* \")\n",
    "\n",
    "if delta < 0 :\n",
    "    print(\"you dont have a real root :( \")"
   ]
  }
 ],
 "metadata": {
  "kernelspec": {
   "display_name": "Python 3",
   "language": "python",
   "name": "python3"
  },
  "language_info": {
   "codemirror_mode": {
    "name": "ipython",
    "version": 3
   },
   "file_extension": ".py",
   "mimetype": "text/x-python",
   "name": "python",
   "nbconvert_exporter": "python",
   "pygments_lexer": "ipython3",
   "version": "3.7.3"
  }
 },
 "nbformat": 4,
 "nbformat_minor": 2
}
